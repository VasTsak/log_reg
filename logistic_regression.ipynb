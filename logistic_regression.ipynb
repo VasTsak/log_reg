{
 "cells": [
  {
   "cell_type": "markdown",
   "metadata": {},
   "source": [
    "# Predict wine taste preferences with logistic regression\n",
    "15-Sep-2016\n",
    "\n",
    "The goal of this assignment is to understand the relationships between the characteristics of the wine and predict the quality of the wine based on those characteristics.\n",
    "\n",
    "A set of logistic regression models are going to be developed to solve the problem. The approaches that are going to be implemented are : forward stepwise selection  ,ridge regularization , and lasso regularization.\n"
   ]
  },
  {
   "cell_type": "markdown",
   "metadata": {},
   "source": [
    "The libraries that are going to be used are \"glmnet\" in order to implement the rigde and lasso regularizations , the \"ROCR\" in order to make the ROC curve ,and the \"leaps\" library in order to apply the forward stepwise selection."
   ]
  },
  {
   "cell_type": "code",
   "execution_count": 516,
   "metadata": {
    "collapsed": true
   },
   "outputs": [],
   "source": [
    "# Set working directory\n",
    "setwd(\"C:\\\\Users\\\\vasil\\\\Desktop\\\\Assigment\")\n",
    "# Load the libraries\n",
    "library(glmnet)\n",
    "library(ROCR)\n",
    "library(leaps)"
   ]
  },
  {
   "cell_type": "code",
   "execution_count": 517,
   "metadata": {
    "collapsed": true
   },
   "outputs": [],
   "source": [
    "# Data engineering\n",
    "testing<-read.csv(\"Wine_testing.csv\")\n",
    "training <-read.csv(\"Wine_training.csv\")\n",
    "data <-read.csv(\"wine.csv\")"
   ]
  },
  {
   "cell_type": "markdown",
   "metadata": {},
   "source": [
    "## 1.Model development\n",
    "### 1.1Stepwise forward selection\n",
    "This approach has various advantages and disadvantages. \n",
    "Some of the benefits of this approach are that models are easy to inteprete and easy to compute.\n",
    "But it is possible to miss the \"optimal\" model due to drop and add variables one at a time .\n",
    "Also this method can overestimate the significance of the results, so we should be conservative \n",
    "when we evaluate the p-values\n",
    "\n",
    "\n",
    "There will be developed two models ,for the first model is going to be used the glm() function (steps based on AIC) while for the second model is going to be used the regsubsets() function (steps based on BIC and R^2) from the \"leaps\" library."
   ]
  },
  {
   "cell_type": "code",
   "execution_count": 518,
   "metadata": {
    "collapsed": false
   },
   "outputs": [
    {
     "name": "stdout",
     "output_type": "stream",
     "text": [
      "Start:  AIC=4195.98\n",
      "quality ~ 1\n",
      "\n",
      "                       Df Deviance    AIC\n",
      "+ alcohol               1   3562.4 3566.4\n",
      "+ density               1   3897.6 3901.6\n",
      "+ volatile.acidity      1   4016.1 4020.1\n",
      "+ chlorides             1   4059.7 4063.7\n",
      "+ total.sulfur.dioxide  1   4086.5 4090.5\n",
      "+ residual.sugar        1   4153.2 4157.2\n",
      "+ pH                    1   4155.3 4159.3\n",
      "+ fixed.acidity         1   4159.6 4163.6\n",
      "+ sulphates             1   4180.8 4184.8\n",
      "<none>                      4194.0 4196.0\n",
      "+ free.sulfur.dioxide   1   4193.7 4197.7\n",
      "+ citric.acid           1   4194.0 4198.0\n",
      "\n",
      "Step:  AIC=3566.45\n",
      "quality ~ alcohol\n",
      "\n",
      "                       Df Deviance    AIC\n",
      "+ volatile.acidity      1   3336.1 3342.1\n",
      "+ free.sulfur.dioxide   1   3518.2 3524.2\n",
      "+ residual.sugar        1   3537.5 3543.5\n",
      "+ sulphates             1   3543.1 3549.1\n",
      "+ fixed.acidity         1   3546.6 3552.6\n",
      "+ pH                    1   3547.8 3553.8\n",
      "+ density               1   3554.1 3560.1\n",
      "+ chlorides             1   3554.7 3560.7\n",
      "+ citric.acid           1   3557.0 3563.0\n",
      "<none>                      3562.4 3566.4\n",
      "+ total.sulfur.dioxide  1   3561.5 3567.5\n",
      "\n",
      "Step:  AIC=3342.11\n",
      "quality ~ alcohol + volatile.acidity\n",
      "\n",
      "                       Df Deviance    AIC\n",
      "+ residual.sugar        1   3292.5 3300.5\n",
      "+ free.sulfur.dioxide   1   3305.9 3313.9\n",
      "+ density               1   3314.3 3322.3\n",
      "+ fixed.acidity         1   3314.4 3322.4\n",
      "+ sulphates             1   3317.7 3325.7\n",
      "+ total.sulfur.dioxide  1   3325.7 3333.7\n",
      "+ pH                    1   3326.2 3334.2\n",
      "<none>                      3336.1 3342.1\n",
      "+ chlorides             1   3334.5 3342.5\n",
      "+ citric.acid           1   3336.1 3344.1\n",
      "\n",
      "Step:  AIC=3300.52\n",
      "quality ~ alcohol + volatile.acidity + residual.sugar\n",
      "\n",
      "                       Df Deviance    AIC\n",
      "+ fixed.acidity         1   3267.6 3277.6\n",
      "+ sulphates             1   3273.9 3283.9\n",
      "+ pH                    1   3275.5 3285.5\n",
      "+ free.sulfur.dioxide   1   3276.8 3286.8\n",
      "+ density               1   3287.5 3297.5\n",
      "+ total.sulfur.dioxide  1   3289.7 3299.7\n",
      "<none>                      3292.5 3300.5\n",
      "+ citric.acid           1   3292.2 3302.2\n",
      "+ chlorides             1   3292.4 3302.4\n",
      "\n",
      "Step:  AIC=3277.63\n",
      "quality ~ alcohol + volatile.acidity + residual.sugar + fixed.acidity\n",
      "\n",
      "                       Df Deviance    AIC\n",
      "+ sulphates             1   3248.9 3260.9\n",
      "+ free.sulfur.dioxide   1   3256.0 3268.0\n",
      "+ pH                    1   3262.3 3274.3\n",
      "+ total.sulfur.dioxide  1   3264.7 3276.7\n",
      "<none>                      3267.6 3277.6\n",
      "+ citric.acid           1   3266.8 3278.8\n",
      "+ chlorides             1   3267.4 3279.4\n",
      "+ density               1   3267.6 3279.6\n",
      "\n",
      "Step:  AIC=3260.9\n",
      "quality ~ alcohol + volatile.acidity + residual.sugar + fixed.acidity + \n",
      "    sulphates\n",
      "\n",
      "                       Df Deviance    AIC\n",
      "+ free.sulfur.dioxide   1   3238.1 3252.1\n",
      "+ pH                    1   3246.3 3260.3\n",
      "<none>                      3248.9 3260.9\n",
      "+ density               1   3247.5 3261.5\n",
      "+ total.sulfur.dioxide  1   3248.0 3262.0\n",
      "+ citric.acid           1   3248.5 3262.5\n",
      "+ chlorides             1   3248.7 3262.7\n",
      "\n",
      "Step:  AIC=3252.13\n",
      "quality ~ alcohol + volatile.acidity + residual.sugar + fixed.acidity + \n",
      "    sulphates + free.sulfur.dioxide\n",
      "\n",
      "                       Df Deviance    AIC\n",
      "+ pH                    1   3235.5 3251.5\n",
      "<none>                      3238.1 3252.1\n",
      "+ total.sulfur.dioxide  1   3236.4 3252.4\n",
      "+ density               1   3237.0 3253.0\n",
      "+ chlorides             1   3237.7 3253.7\n",
      "+ citric.acid           1   3237.9 3253.9\n",
      "\n",
      "Step:  AIC=3251.53\n",
      "quality ~ alcohol + volatile.acidity + residual.sugar + fixed.acidity + \n",
      "    sulphates + free.sulfur.dioxide + pH\n",
      "\n",
      "                       Df Deviance    AIC\n",
      "+ density               1   3229.4 3247.4\n",
      "+ total.sulfur.dioxide  1   3233.2 3251.2\n",
      "<none>                      3235.5 3251.5\n",
      "+ citric.acid           1   3235.1 3253.1\n",
      "+ chlorides             1   3235.2 3253.2\n",
      "\n",
      "Step:  AIC=3247.38\n",
      "quality ~ alcohol + volatile.acidity + residual.sugar + fixed.acidity + \n",
      "    sulphates + free.sulfur.dioxide + pH + density\n",
      "\n",
      "                       Df Deviance    AIC\n",
      "<none>                      3229.4 3247.4\n",
      "+ total.sulfur.dioxide  1   3228.1 3248.1\n",
      "+ citric.acid           1   3228.6 3248.6\n",
      "+ chlorides             1   3229.4 3249.4\n"
     ]
    }
   ],
   "source": [
    "fullmodel <- glm(quality ~.,family=binomial(link='logit'),data=training)\n",
    "nothing <- glm(quality ~ 1,family = binomial,data = training)\n",
    "forwards <- step(nothing,scope=list(lower=formula(nothing),upper=formula(fullmodel)),\n",
    "                direction=\"forward\")"
   ]
  },
  {
   "cell_type": "code",
   "execution_count": 519,
   "metadata": {
    "collapsed": false
   },
   "outputs": [
    {
     "data": {
      "text/plain": [
       "Subset selection object\n",
       "Call: regsubsets.formula(formula(fullmodel), data = training, nvmax = 10, \n",
       "    method = \"forward\")\n",
       "11 Variables  (and intercept)\n",
       "                     Forced in Forced out\n",
       "fixed.acidity            FALSE      FALSE\n",
       "volatile.acidity         FALSE      FALSE\n",
       "citric.acid              FALSE      FALSE\n",
       "residual.sugar           FALSE      FALSE\n",
       "chlorides                FALSE      FALSE\n",
       "free.sulfur.dioxide      FALSE      FALSE\n",
       "total.sulfur.dioxide     FALSE      FALSE\n",
       "density                  FALSE      FALSE\n",
       "pH                       FALSE      FALSE\n",
       "sulphates                FALSE      FALSE\n",
       "alcohol                  FALSE      FALSE\n",
       "1 subsets of each size up to 10\n",
       "Selection Algorithm: forward\n",
       "          fixed.acidity volatile.acidity citric.acid residual.sugar chlorides\n",
       "1  ( 1 )  \" \"           \" \"              \" \"         \" \"            \" \"      \n",
       "2  ( 1 )  \" \"           \"*\"              \" \"         \" \"            \" \"      \n",
       "3  ( 1 )  \" \"           \"*\"              \" \"         \"*\"            \" \"      \n",
       "4  ( 1 )  \" \"           \"*\"              \" \"         \"*\"            \" \"      \n",
       "5  ( 1 )  \" \"           \"*\"              \" \"         \"*\"            \" \"      \n",
       "6  ( 1 )  \" \"           \"*\"              \" \"         \"*\"            \" \"      \n",
       "7  ( 1 )  \" \"           \"*\"              \" \"         \"*\"            \" \"      \n",
       "8  ( 1 )  \" \"           \"*\"              \" \"         \"*\"            \" \"      \n",
       "9  ( 1 )  \" \"           \"*\"              \" \"         \"*\"            \"*\"      \n",
       "10  ( 1 ) \" \"           \"*\"              \"*\"         \"*\"            \"*\"      \n",
       "          free.sulfur.dioxide total.sulfur.dioxide density pH  sulphates\n",
       "1  ( 1 )  \" \"                 \" \"                  \" \"     \" \" \" \"      \n",
       "2  ( 1 )  \" \"                 \" \"                  \" \"     \" \" \" \"      \n",
       "3  ( 1 )  \" \"                 \" \"                  \" \"     \" \" \" \"      \n",
       "4  ( 1 )  \" \"                 \" \"                  \" \"     \"*\" \" \"      \n",
       "5  ( 1 )  \" \"                 \" \"                  \" \"     \"*\" \"*\"      \n",
       "6  ( 1 )  \" \"                 \" \"                  \"*\"     \"*\" \"*\"      \n",
       "7  ( 1 )  \"*\"                 \" \"                  \"*\"     \"*\" \"*\"      \n",
       "8  ( 1 )  \"*\"                 \"*\"                  \"*\"     \"*\" \"*\"      \n",
       "9  ( 1 )  \"*\"                 \"*\"                  \"*\"     \"*\" \"*\"      \n",
       "10  ( 1 ) \"*\"                 \"*\"                  \"*\"     \"*\" \"*\"      \n",
       "          alcohol\n",
       "1  ( 1 )  \"*\"    \n",
       "2  ( 1 )  \"*\"    \n",
       "3  ( 1 )  \"*\"    \n",
       "4  ( 1 )  \"*\"    \n",
       "5  ( 1 )  \"*\"    \n",
       "6  ( 1 )  \"*\"    \n",
       "7  ( 1 )  \"*\"    \n",
       "8  ( 1 )  \"*\"    \n",
       "9  ( 1 )  \"*\"    \n",
       "10  ( 1 ) \"*\"    "
      ]
     },
     "metadata": {},
     "output_type": "display_data"
    }
   ],
   "source": [
    "regfit.fwd <- regsubsets(formula(fullmodel), data = training, nvmax = 10, method = \"forward\")\n",
    "reg.summary.fwd <- summary(regfit.fwd)\n",
    "reg.summary.fwd \n"
   ]
  },
  {
   "cell_type": "code",
   "execution_count": 520,
   "metadata": {
    "collapsed": false
   },
   "outputs": [
    {
     "data": {
      "image/png": "[encoded data removed]",
      "text/plain": [
       "plot without title"
      ]
     },
     "metadata": {},
     "output_type": "display_data"
    }
   ],
   "source": [
    "par(mfrow = c(2, 2))\n",
    "plot(reg.summary.fwd$cp, xlab = \"Number of variables\", ylab = \"C_p\", type = \"l\")\n",
    "points(which.min(reg.summary.fwd$cp), reg.summary.fwd$cp[which.min(reg.summary.fwd$cp)], col = \"red\", cex = 2, pch = 20)\n",
    "plot(reg.summary.fwd$bic, xlab = \"Number of variables\", ylab = \"BIC\", type = \"l\")\n",
    "points(which.min(reg.summary.fwd$bic), reg.summary.fwd$bic[which.min(reg.summary.fwd$bic)], col = \"red\", cex = 2, pch = 20)\n",
    "plot(reg.summary.fwd$adjr2, xlab = \"Number of variables\", ylab = \"Adjusted R^2\", type = \"l\")\n",
    "points(which.max(reg.summary.fwd$adjr2), reg.summary.fwd$adjr2[which.max(reg.summary.fwd$adjr2)], col = \"red\", cex = 2, pch = 20)\n",
    "plot(reg.summary.fwd$rss, xlab = \"Number of variables\", ylab = \"RSS\", type = \"l\")\n",
    "mtext(\"Plots of C_p, BIC, adjusted R^2 and RSS for forward stepwise selection\", side = 3, line = -2, outer = TRUE)\n"
   ]
  },
  {
   "cell_type": "markdown",
   "metadata": {},
   "source": [
    "As we can see below , both models use the same variables (8) but there is a difference on the slope of the variables. This is due to the way that each model is calculated."
   ]
  },
  {
   "cell_type": "code",
   "execution_count": 522,
   "metadata": {
    "collapsed": false
   },
   "outputs": [
    {
     "data": {
      "text/html": [
       "<dl class=dl-horizontal>\n",
       "\t<dt>(Intercept)</dt>\n",
       "\t\t<dd>25.882548836137</dd>\n",
       "\t<dt>volatile.acidity</dt>\n",
       "\t\t<dd>-1.13807450556024</dd>\n",
       "\t<dt>residual.sugar</dt>\n",
       "\t\t<dd>0.0200510633333082</dd>\n",
       "\t<dt>free.sulfur.dioxide</dt>\n",
       "\t\t<dd>0.00188305000659585</dd>\n",
       "\t<dt>total.sulfur.dioxide</dt>\n",
       "\t\t<dd>-0.000398324138529726</dd>\n",
       "\t<dt>density</dt>\n",
       "\t\t<dd>-26.6540172729775</dd>\n",
       "\t<dt>pH</dt>\n",
       "\t\t<dd>0.24161995570612</dd>\n",
       "\t<dt>sulphates</dt>\n",
       "\t\t<dd>0.289146097981826</dd>\n",
       "\t<dt>alcohol</dt>\n",
       "\t\t<dd>0.145984146139302</dd>\n",
       "</dl>\n"
      ],
      "text/latex": [
       "\\begin{description*}\n",
       "\\item[(Intercept)] 25.882548836137\n",
       "\\item[volatile.acidity] -1.13807450556024\n",
       "\\item[residual.sugar] 0.0200510633333082\n",
       "\\item[free.sulfur.dioxide] 0.00188305000659585\n",
       "\\item[total.sulfur.dioxide] -0.000398324138529726\n",
       "\\item[density] -26.6540172729775\n",
       "\\item[pH] 0.24161995570612\n",
       "\\item[sulphates] 0.289146097981826\n",
       "\\item[alcohol] 0.145984146139302\n",
       "\\end{description*}\n"
      ],
      "text/markdown": [
       "(Intercept)\n",
       ":   25.882548836137volatile.acidity\n",
       ":   -1.13807450556024residual.sugar\n",
       ":   0.0200510633333082free.sulfur.dioxide\n",
       ":   0.00188305000659585total.sulfur.dioxide\n",
       ":   -0.000398324138529726density\n",
       ":   -26.6540172729775pH\n",
       ":   0.24161995570612sulphates\n",
       ":   0.289146097981826alcohol\n",
       ":   0.145984146139302\n",
       "\n"
      ],
      "text/plain": [
       "         (Intercept)     volatile.acidity       residual.sugar \n",
       "        2.588255e+01        -1.138075e+00         2.005106e-02 \n",
       " free.sulfur.dioxide total.sulfur.dioxide              density \n",
       "        1.883050e-03        -3.983241e-04        -2.665402e+01 \n",
       "                  pH            sulphates              alcohol \n",
       "        2.416200e-01         2.891461e-01         1.459841e-01 "
      ]
     },
     "metadata": {},
     "output_type": "display_data"
    },
    {
     "data": {
      "text/html": [
       "<dl class=dl-horizontal>\n",
       "\t<dt>(Intercept)</dt>\n",
       "\t\t<dd>159.506316522204</dd>\n",
       "\t<dt>alcohol</dt>\n",
       "\t\t<dd>0.911674455660151</dd>\n",
       "\t<dt>volatile.acidity</dt>\n",
       "\t\t<dd>-6.64674083794466</dd>\n",
       "\t<dt>residual.sugar</dt>\n",
       "\t\t<dd>0.122294222940135</dd>\n",
       "\t<dt>fixed.acidity</dt>\n",
       "\t\t<dd>-0.056894444796723</dd>\n",
       "\t<dt>sulphates</dt>\n",
       "\t\t<dd>1.9191191392996</dd>\n",
       "\t<dt>free.sulfur.dioxide</dt>\n",
       "\t\t<dd>0.00866573472232945</dd>\n",
       "\t<dt>pH</dt>\n",
       "\t\t<dd>1.14120494847602</dd>\n",
       "\t<dt>density</dt>\n",
       "\t\t<dd>-172.649653002096</dd>\n",
       "</dl>\n"
      ],
      "text/latex": [
       "\\begin{description*}\n",
       "\\item[(Intercept)] 159.506316522204\n",
       "\\item[alcohol] 0.911674455660151\n",
       "\\item[volatile.acidity] -6.64674083794466\n",
       "\\item[residual.sugar] 0.122294222940135\n",
       "\\item[fixed.acidity] -0.056894444796723\n",
       "\\item[sulphates] 1.9191191392996\n",
       "\\item[free.sulfur.dioxide] 0.00866573472232945\n",
       "\\item[pH] 1.14120494847602\n",
       "\\item[density] -172.649653002096\n",
       "\\end{description*}\n"
      ],
      "text/markdown": [
       "(Intercept)\n",
       ":   159.506316522204alcohol\n",
       ":   0.911674455660151volatile.acidity\n",
       ":   -6.64674083794466residual.sugar\n",
       ":   0.122294222940135fixed.acidity\n",
       ":   -0.056894444796723sulphates\n",
       ":   1.9191191392996free.sulfur.dioxide\n",
       ":   0.00866573472232945pH\n",
       ":   1.14120494847602density\n",
       ":   -172.649653002096\n",
       "\n"
      ],
      "text/plain": [
       "        (Intercept)             alcohol    volatile.acidity      residual.sugar \n",
       "       1.595063e+02        9.116745e-01       -6.646741e+00        1.222942e-01 \n",
       "      fixed.acidity           sulphates free.sulfur.dioxide                  pH \n",
       "      -5.689444e-02        1.919119e+00        8.665735e-03        1.141205e+00 \n",
       "            density \n",
       "      -1.726497e+02 "
      ]
     },
     "metadata": {},
     "output_type": "display_data"
    }
   ],
   "source": [
    "coef(regfit.fwd, 8)\n",
    "coef(forwards)"
   ]
  },
  {
   "cell_type": "markdown",
   "metadata": {},
   "source": [
    "### 1.2.Ringe regularization\n",
    " The ringe regularization approach is going to be developed using the cv.glmnet() function , in order to develop the ringe regularization model the \"alpha\" parameter needs to be 0 .\n",
    " The cv.glmnet() function is used , instead of glmnet(), because we need to use the cross validation approach to take the single best model.\n",
    " \n",
    "The Ringe regularization is preferred over Lasso because it can deal with situations when the number of features is greater than the number of samples where Lasso behaves erratically. "
   ]
  },
  {
   "cell_type": "code",
   "execution_count": 529,
   "metadata": {
    "collapsed": true
   },
   "outputs": [],
   "source": [
    "x <- data.matrix(training[,-12])\n",
    "x_test<-data.matrix(testing[,-12])"
   ]
  },
  {
   "cell_type": "code",
   "execution_count": 536,
   "metadata": {
    "collapsed": true
   },
   "outputs": [],
   "source": [
    "cv_ringe <- cv.glmnet(x, training$quality, family='binomial', type.measure = \"class\",alpha = 0)\n"
   ]
  },
  {
   "cell_type": "markdown",
   "metadata": {},
   "source": [
    "### 1.3.Lasso regularization\n",
    " The ringe regularization approach is going to be developed using the cv.glmnet() function , in order to develop the lasso regularization model the \"alpha\" parameter needs to be 1 .\n",
    "As the previous approach , we use the cv.glmnet() function instead of the simple glmnet() in order to have a better model.\n",
    "\n",
    "Lasso is preferred over ridge regularization when the solution is believed to have sparse features because L1 regularization promotes sparsity  while L2 regularization does not."
   ]
  },
  {
   "cell_type": "code",
   "execution_count": 537,
   "metadata": {
    "collapsed": true
   },
   "outputs": [],
   "source": [
    "cv_lasso <- cv.glmnet(x, training$quality, family='binomial', type.measure = \"class\",alpha = 1)\n"
   ]
  },
  {
   "cell_type": "markdown",
   "metadata": {},
   "source": [
    "## 2. Model assessment\n",
    "\n"
   ]
  },
  {
   "cell_type": "markdown",
   "metadata": {},
   "source": [
    "In order to find the best model , we will use k-fold cross validation. "
   ]
  },
  {
   "cell_type": "code",
   "execution_count": 523,
   "metadata": {
    "collapsed": false
   },
   "outputs": [
    {
     "name": "stdout",
     "output_type": "stream",
     "text": [
      "[1] 0.838002\n"
     ]
    }
   ],
   "source": [
    "#Randomly shuffle the data\n",
    "data<-data[sample(nrow(data)),]\n",
    "\n",
    "#Create 10 equally size folds\n",
    "folds <- cut(seq(1,nrow(data)),breaks=10,labels=FALSE)\n",
    "x<-seq(0, 0, length.out = 11)\n",
    "maxX<- x[1]\n",
    "\n",
    "#Perform 10 fold cross validation\n",
    "for(i in 1:10){\n",
    "    #Segement your data by fold using the which() function \n",
    "    testIndexes <- which(folds==i,arr.ind=TRUE)\n",
    "    testData <- data[testIndexes, ]\n",
    "    trainData <- data[-testIndexes, ]\n",
    "    mod_fit_for <- glm(formula(forwards), data=trainData, family=\"binomial\")   \n",
    "    \n",
    "    prob_for <- predict(mod_fit_for, newdata=testData[,-12], type=\"response\")\n",
    "    pred_for <- prediction(prob_for, testData$quality)\n",
    "    auc_for <- performance(pred_for, measure = \"auc\")\n",
    "    auc_for <- auc_for@y.values[[1]]\n",
    "    x[i]<-auc_for\n",
    "    if(x[i] >= maxX){\n",
    "        ## do comparison with current target\n",
    "      maxX <- x[i]  ## if element i is smaller than target, update target\n",
    "    }    \n",
    "}\n",
    "print(maxX)"
   ]
  },
  {
   "cell_type": "markdown",
   "metadata": {},
   "source": [
    "As we can see, the auc of the best model is above 0.8 which indicates that the model is good at discriminating between the two classes of the target variable."
   ]
  },
  {
   "cell_type": "markdown",
   "metadata": {},
   "source": [
    "\n",
    "We need to find the best lambdas for each model in order to make the most accurate prediction."
   ]
  },
  {
   "cell_type": "code",
   "execution_count": 538,
   "metadata": {
    "collapsed": false
   },
   "outputs": [
    {
     "data": {
      "text/html": [
       "0.00389710644421593"
      ],
      "text/latex": [
       "0.00389710644421593"
      ],
      "text/markdown": [
       "0.00389710644421593"
      ],
      "text/plain": [
       "[1] 0.003897106"
      ]
     },
     "metadata": {},
     "output_type": "display_data"
    },
    {
     "data": {
      "text/html": [
       "0.0212870757451315"
      ],
      "text/latex": [
       "0.0212870757451315"
      ],
      "text/markdown": [
       "0.0212870757451315"
      ],
      "text/plain": [
       "[1] 0.02128708"
      ]
     },
     "metadata": {},
     "output_type": "display_data"
    }
   ],
   "source": [
    "best_lambda_lasso <- cv_lasso$lambda.min\n",
    "best_lambda_ringe <- cv_ringe$lambda.min\n",
    "best_lambda_lasso\n",
    "best_lambda_ringe"
   ]
  },
  {
   "cell_type": "markdown",
   "metadata": {},
   "source": [
    "After having found the lambdas we are able to proceed to the prediction and evaluation of the model ."
   ]
  },
  {
   "cell_type": "code",
   "execution_count": 539,
   "metadata": {
    "collapsed": false
   },
   "outputs": [
    {
     "data": {
      "text/html": [
       "0.757882787001559"
      ],
      "text/latex": [
       "0.757882787001559"
      ],
      "text/markdown": [
       "0.757882787001559"
      ],
      "text/plain": [
       "[1] 0.7578828"
      ]
     },
     "metadata": {},
     "output_type": "display_data"
    },
    {
     "data": {
      "text/html": [
       "0.762991343834254"
      ],
      "text/latex": [
       "0.762991343834254"
      ],
      "text/markdown": [
       "0.762991343834254"
      ],
      "text/plain": [
       "[1] 0.7629913"
      ]
     },
     "metadata": {},
     "output_type": "display_data"
    }
   ],
   "source": [
    "prob_lasso <-predict(cv_lasso, newx = x_test, type = \"response\", s = best_lambda_lasso)\n",
    "pred_lasso <- prediction(prob_lasso, testing$quality)\n",
    "\n",
    "auc_lasso <- performance(pred_lasso, measure = \"auc\")\n",
    "auc_lasso <- auc_lasso@y.values[[1]]\n",
    "auc_lasso\n",
    "\n",
    "prob_ringe <-predict(cv_ringe, newx = x_test, type = \"response\", s = best_lambda_ringe)\n",
    "pred_ringe <- prediction(prob_ringe, testing$quality)\n",
    "\n",
    "\n",
    "auc_ringe <- performance(pred_ringe, measure = \"auc\")\n",
    "auc_ringe<- auc_ringe@y.values[[1]]\n",
    "auc_ringe"
   ]
  },
  {
   "cell_type": "markdown",
   "metadata": {},
   "source": [
    "As we can see from the results above , both models tend to have approximately the same AUC which in not bad but also not quite good. That metric ranges from 0.5 to 1, the values above 0.8 indicate that the model is good at discriminating between the two classes of the target variable. Our AUCs are approximately 0.76 , for all the models."
   ]
  }
 ],
 "metadata": {
  "kernelspec": {
   "display_name": "R",
   "language": "R",
   "name": "ir"
  },
  "language_info": {
   "codemirror_mode": "r",
   "file_extension": ".r",
   "mimetype": "text/x-r-source",
   "name": "R",
   "pygments_lexer": "r",
   "version": "3.3.0"
  }
 },
 "nbformat": 4,
 "nbformat_minor": 0
}
